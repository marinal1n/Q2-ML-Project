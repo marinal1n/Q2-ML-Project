{
  "nbformat": 4,
  "nbformat_minor": 0,
  "metadata": {
    "colab": {
      "provenance": []
    },
    "kernelspec": {
      "name": "python3",
      "display_name": "Python 3"
    },
    "language_info": {
      "name": "python"
    }
  },
  "cells": [
    {
      "cell_type": "code",
      "execution_count": null,
      "metadata": {
        "id": "muUOJbNSFtvo",
        "colab": {
          "base_uri": "https://localhost:8080/",
          "height": 1000
        },
        "outputId": "2f5b5322-2f7e-493f-fa68-bb4accc15759"
      },
      "outputs": [
        {
          "output_type": "display_data",
          "data": {
            "text/plain": [
              "<IPython.core.display.HTML object>"
            ],
            "text/html": [
              "\n",
              "     <input type=\"file\" id=\"files-82727558-40fb-4217-9ef8-6d09cacb8ba8\" name=\"files[]\" multiple disabled\n",
              "        style=\"border:none\" />\n",
              "     <output id=\"result-82727558-40fb-4217-9ef8-6d09cacb8ba8\">\n",
              "      Upload widget is only available when the cell has been executed in the\n",
              "      current browser session. Please rerun this cell to enable.\n",
              "      </output>\n",
              "      <script>// Copyright 2017 Google LLC\n",
              "//\n",
              "// Licensed under the Apache License, Version 2.0 (the \"License\");\n",
              "// you may not use this file except in compliance with the License.\n",
              "// You may obtain a copy of the License at\n",
              "//\n",
              "//      http://www.apache.org/licenses/LICENSE-2.0\n",
              "//\n",
              "// Unless required by applicable law or agreed to in writing, software\n",
              "// distributed under the License is distributed on an \"AS IS\" BASIS,\n",
              "// WITHOUT WARRANTIES OR CONDITIONS OF ANY KIND, either express or implied.\n",
              "// See the License for the specific language governing permissions and\n",
              "// limitations under the License.\n",
              "\n",
              "/**\n",
              " * @fileoverview Helpers for google.colab Python module.\n",
              " */\n",
              "(function(scope) {\n",
              "function span(text, styleAttributes = {}) {\n",
              "  const element = document.createElement('span');\n",
              "  element.textContent = text;\n",
              "  for (const key of Object.keys(styleAttributes)) {\n",
              "    element.style[key] = styleAttributes[key];\n",
              "  }\n",
              "  return element;\n",
              "}\n",
              "\n",
              "// Max number of bytes which will be uploaded at a time.\n",
              "const MAX_PAYLOAD_SIZE = 100 * 1024;\n",
              "\n",
              "function _uploadFiles(inputId, outputId) {\n",
              "  const steps = uploadFilesStep(inputId, outputId);\n",
              "  const outputElement = document.getElementById(outputId);\n",
              "  // Cache steps on the outputElement to make it available for the next call\n",
              "  // to uploadFilesContinue from Python.\n",
              "  outputElement.steps = steps;\n",
              "\n",
              "  return _uploadFilesContinue(outputId);\n",
              "}\n",
              "\n",
              "// This is roughly an async generator (not supported in the browser yet),\n",
              "// where there are multiple asynchronous steps and the Python side is going\n",
              "// to poll for completion of each step.\n",
              "// This uses a Promise to block the python side on completion of each step,\n",
              "// then passes the result of the previous step as the input to the next step.\n",
              "function _uploadFilesContinue(outputId) {\n",
              "  const outputElement = document.getElementById(outputId);\n",
              "  const steps = outputElement.steps;\n",
              "\n",
              "  const next = steps.next(outputElement.lastPromiseValue);\n",
              "  return Promise.resolve(next.value.promise).then((value) => {\n",
              "    // Cache the last promise value to make it available to the next\n",
              "    // step of the generator.\n",
              "    outputElement.lastPromiseValue = value;\n",
              "    return next.value.response;\n",
              "  });\n",
              "}\n",
              "\n",
              "/**\n",
              " * Generator function which is called between each async step of the upload\n",
              " * process.\n",
              " * @param {string} inputId Element ID of the input file picker element.\n",
              " * @param {string} outputId Element ID of the output display.\n",
              " * @return {!Iterable<!Object>} Iterable of next steps.\n",
              " */\n",
              "function* uploadFilesStep(inputId, outputId) {\n",
              "  const inputElement = document.getElementById(inputId);\n",
              "  inputElement.disabled = false;\n",
              "\n",
              "  const outputElement = document.getElementById(outputId);\n",
              "  outputElement.innerHTML = '';\n",
              "\n",
              "  const pickedPromise = new Promise((resolve) => {\n",
              "    inputElement.addEventListener('change', (e) => {\n",
              "      resolve(e.target.files);\n",
              "    });\n",
              "  });\n",
              "\n",
              "  const cancel = document.createElement('button');\n",
              "  inputElement.parentElement.appendChild(cancel);\n",
              "  cancel.textContent = 'Cancel upload';\n",
              "  const cancelPromise = new Promise((resolve) => {\n",
              "    cancel.onclick = () => {\n",
              "      resolve(null);\n",
              "    };\n",
              "  });\n",
              "\n",
              "  // Wait for the user to pick the files.\n",
              "  const files = yield {\n",
              "    promise: Promise.race([pickedPromise, cancelPromise]),\n",
              "    response: {\n",
              "      action: 'starting',\n",
              "    }\n",
              "  };\n",
              "\n",
              "  cancel.remove();\n",
              "\n",
              "  // Disable the input element since further picks are not allowed.\n",
              "  inputElement.disabled = true;\n",
              "\n",
              "  if (!files) {\n",
              "    return {\n",
              "      response: {\n",
              "        action: 'complete',\n",
              "      }\n",
              "    };\n",
              "  }\n",
              "\n",
              "  for (const file of files) {\n",
              "    const li = document.createElement('li');\n",
              "    li.append(span(file.name, {fontWeight: 'bold'}));\n",
              "    li.append(span(\n",
              "        `(${file.type || 'n/a'}) - ${file.size} bytes, ` +\n",
              "        `last modified: ${\n",
              "            file.lastModifiedDate ? file.lastModifiedDate.toLocaleDateString() :\n",
              "                                    'n/a'} - `));\n",
              "    const percent = span('0% done');\n",
              "    li.appendChild(percent);\n",
              "\n",
              "    outputElement.appendChild(li);\n",
              "\n",
              "    const fileDataPromise = new Promise((resolve) => {\n",
              "      const reader = new FileReader();\n",
              "      reader.onload = (e) => {\n",
              "        resolve(e.target.result);\n",
              "      };\n",
              "      reader.readAsArrayBuffer(file);\n",
              "    });\n",
              "    // Wait for the data to be ready.\n",
              "    let fileData = yield {\n",
              "      promise: fileDataPromise,\n",
              "      response: {\n",
              "        action: 'continue',\n",
              "      }\n",
              "    };\n",
              "\n",
              "    // Use a chunked sending to avoid message size limits. See b/62115660.\n",
              "    let position = 0;\n",
              "    do {\n",
              "      const length = Math.min(fileData.byteLength - position, MAX_PAYLOAD_SIZE);\n",
              "      const chunk = new Uint8Array(fileData, position, length);\n",
              "      position += length;\n",
              "\n",
              "      const base64 = btoa(String.fromCharCode.apply(null, chunk));\n",
              "      yield {\n",
              "        response: {\n",
              "          action: 'append',\n",
              "          file: file.name,\n",
              "          data: base64,\n",
              "        },\n",
              "      };\n",
              "\n",
              "      let percentDone = fileData.byteLength === 0 ?\n",
              "          100 :\n",
              "          Math.round((position / fileData.byteLength) * 100);\n",
              "      percent.textContent = `${percentDone}% done`;\n",
              "\n",
              "    } while (position < fileData.byteLength);\n",
              "  }\n",
              "\n",
              "  // All done.\n",
              "  yield {\n",
              "    response: {\n",
              "      action: 'complete',\n",
              "    }\n",
              "  };\n",
              "}\n",
              "\n",
              "scope.google = scope.google || {};\n",
              "scope.google.colab = scope.google.colab || {};\n",
              "scope.google.colab._files = {\n",
              "  _uploadFiles,\n",
              "  _uploadFilesContinue,\n",
              "};\n",
              "})(self);\n",
              "</script> "
            ]
          },
          "metadata": {}
        },
        {
          "output_type": "stream",
          "name": "stdout",
          "text": [
            "Saving LoanPreprocessed.csv to LoanPreprocessed.csv\n",
            "      person_age  person_gender  person_education  person_income  \\\n",
            "0       0.056452              0              0.75       0.007212   \n",
            "1       0.032258              1              0.00       0.008052   \n",
            "2       0.056452              1              0.25       0.006998   \n",
            "3       0.008065              1              0.75       0.006021   \n",
            "4       0.088710              1              0.25       0.024018   \n",
            "...          ...            ...               ...            ...   \n",
            "8995    0.072581              0              0.50       0.015347   \n",
            "8996    0.048387              0              0.00       0.006347   \n",
            "8997    0.040323              0              0.00       0.004920   \n",
            "8998    0.056452              0              0.00       0.010202   \n",
            "8999    0.177419              1              0.00       0.005040   \n",
            "\n",
            "      person_emp_exp person_home_ownership  loan_amnt        loan_intent  \\\n",
            "0              0.000                  RENT   0.101449  DEBTCONSOLIDATION   \n",
            "1              0.008              MORTGAGE   0.232609            MEDICAL   \n",
            "2              0.064                  RENT   0.449275            VENTURE   \n",
            "3              0.000                  RENT   0.028986          EDUCATION   \n",
            "4              0.088              MORTGAGE   0.691391           PERSONAL   \n",
            "...              ...                   ...        ...                ...   \n",
            "8995           0.048                  RENT   0.432986  DEBTCONSOLIDATION   \n",
            "8996           0.024                  RENT   0.101449            VENTURE   \n",
            "8997           0.024                  RENT   0.159420            MEDICAL   \n",
            "8998           0.040                  RENT   0.333333          EDUCATION   \n",
            "8999           0.184                  RENT   0.304348            MEDICAL   \n",
            "\n",
            "      loan_int_rate  loan_percent_income  cb_person_cred_hist_length  \\\n",
            "0          0.267490             0.106061                    0.250000   \n",
            "1          0.217421             0.196970                    0.071429   \n",
            "2          0.603567             0.409091                    0.107143   \n",
            "3          0.025377             0.045455                    0.035714   \n",
            "4          0.381344             0.196970                    0.250000   \n",
            "...             ...                  ...                         ...   \n",
            "8995       0.494513             0.196970                    0.071429   \n",
            "8996       0.592593             0.106061                    0.071429   \n",
            "8997       0.625514             0.212121                    0.035714   \n",
            "8998       0.401235             0.227273                    0.178571   \n",
            "8999       0.449246             0.378788                    0.500000   \n",
            "\n",
            "      credit_score  previous_loan_defaults_on_file  loan_status  \n",
            "0         0.493478                               1            0  \n",
            "1         0.467391                               1            0  \n",
            "2         0.439130                               0            1  \n",
            "3         0.665217                               1            0  \n",
            "4         0.600000                               1            0  \n",
            "...            ...                             ...          ...  \n",
            "8995      0.604348                               0            1  \n",
            "8996      0.563043                               0            0  \n",
            "8997      0.380435                               0            1  \n",
            "8998      0.565217                               1            0  \n",
            "8999      0.606522                               0            1  \n",
            "\n",
            "[9000 rows x 14 columns]\n",
            "loan_status\n",
            "0    6978\n",
            "1    2022\n",
            "Name: count, dtype: int64\n"
          ]
        }
      ],
      "source": [
        "# Mixed Data t\n",
        "\n",
        "from google.colab import files\n",
        "uploaded = files.upload()\n",
        "from sklearn.model_selection import train_test_split\n",
        "from sklearn.preprocessing import KBinsDiscretizer\n",
        "\n",
        "import pandas as pd\n",
        "import io\n",
        "\n",
        "df = pd.read_csv(io.BytesIO(uploaded[\"LoanPreprocessed.csv\"]))\n",
        "print(df)\n",
        "\n",
        "target = 'loan_status'\n",
        "class_distribution = df[target].value_counts()\n",
        "print(class_distribution)\n",
        "\n",
        "attributes_list = [col for col in df.columns]\n",
        "attributes_list = attributes_list[:-1]"
      ]
    },
    {
      "cell_type": "code",
      "source": [
        "from sklearn.model_selection import train_test_split\n",
        "from collections import Counter\n",
        "\n",
        "attributes = df.drop(columns=[target])\n",
        "#print(attributes)\n",
        "\n",
        "class_labels = df[target]\n",
        "#print(class_labels)\n",
        "\n",
        "a_train, a_test, c_train, c_test = train_test_split(attributes, class_labels, test_size=0.2, random_state=42)\n",
        "print(a_test)\n",
        "print(c_train.value_counts())\n",
        "print(c_test.value_counts())"
      ],
      "metadata": {
        "colab": {
          "base_uri": "https://localhost:8080/"
        },
        "id": "1-vL_gqUdQ4W",
        "outputId": "23cf23d0-857d-4e61-bb62-16520256fe48"
      },
      "execution_count": null,
      "outputs": [
        {
          "output_type": "stream",
          "name": "stdout",
          "text": [
            "      person_age  person_gender  person_education  person_income  \\\n",
            "7940    0.024194              0              0.25       0.016876   \n",
            "1162    0.048387              1              0.00       0.010642   \n",
            "582     0.032258              0              0.00       0.006394   \n",
            "4081    0.016129              1              0.00       0.006490   \n",
            "8412    0.088710              1              0.50       0.010203   \n",
            "...          ...            ...               ...            ...   \n",
            "3063    0.056452              0              1.00       0.003223   \n",
            "6925    0.032258              0              0.50       0.005864   \n",
            "6521    0.072581              1              0.00       0.010715   \n",
            "3002    0.024194              1              0.25       0.007375   \n",
            "1298    0.129032              1              0.25       0.012017   \n",
            "\n",
            "      person_emp_exp person_home_ownership  loan_amnt        loan_intent  \\\n",
            "7940           0.008              MORTGAGE   0.688406          EDUCATION   \n",
            "1162           0.032                  RENT   0.632928          EDUCATION   \n",
            "582            0.000              MORTGAGE   0.297159  DEBTCONSOLIDATION   \n",
            "4081           0.000                  RENT   0.275362          EDUCATION   \n",
            "8412           0.064                  RENT   0.362319            MEDICAL   \n",
            "...              ...                   ...        ...                ...   \n",
            "3063           0.056                   OWN   0.318841          EDUCATION   \n",
            "6925           0.016                   OWN   0.402899            VENTURE   \n",
            "6521           0.048              MORTGAGE   0.107246  DEBTCONSOLIDATION   \n",
            "3002           0.008              MORTGAGE   0.275362          EDUCATION   \n",
            "1298           0.112              MORTGAGE   0.420290           PERSONAL   \n",
            "\n",
            "      loan_int_rate  loan_percent_income  cb_person_cred_hist_length  \\\n",
            "7940       0.463649             0.287879                    0.035714   \n",
            "1162       0.829218             0.393939                    0.035714   \n",
            "582        0.881344             0.303030                    0.107143   \n",
            "4081       0.358711             0.272727                    0.035714   \n",
            "8412       0.524005             0.242424                    0.285714   \n",
            "...             ...                  ...                         ...   \n",
            "3063       0.207819             0.560606                    0.142857   \n",
            "6925       0.612483             0.439394                    0.000000   \n",
            "6521       0.382030             0.075758                    0.250000   \n",
            "3002       0.041838             0.242424                    0.071429   \n",
            "1298       0.168724             0.242424                    0.500000   \n",
            "\n",
            "      credit_score  previous_loan_defaults_on_file  \n",
            "7940      0.439130                               1  \n",
            "1162      0.558696                               0  \n",
            "582       0.360870                               0  \n",
            "4081      0.326087                               1  \n",
            "8412      0.402174                               0  \n",
            "...            ...                             ...  \n",
            "3063      0.417391                               1  \n",
            "6925      0.389130                               0  \n",
            "6521      0.597826                               1  \n",
            "3002      0.647826                               1  \n",
            "1298      0.473913                               0  \n",
            "\n",
            "[1800 rows x 13 columns]\n",
            "loan_status\n",
            "0    5585\n",
            "1    1615\n",
            "Name: count, dtype: int64\n",
            "loan_status\n",
            "0    1393\n",
            "1     407\n",
            "Name: count, dtype: int64\n"
          ]
        }
      ]
    },
    {
      "cell_type": "code",
      "source": [
        "import numpy as np\n",
        "from sklearn.metrics import accuracy_score\n",
        "\n",
        "k = 85 # num of neighbors\n",
        "predictions = []\n",
        "\n",
        "# test accuracy\n",
        "for test_case in a_test.to_numpy():\n",
        "  dists = []\n",
        "  for i, train_case in enumerate(a_train.to_numpy()):\n",
        "    dist = 0\n",
        "    for j in range(len(attributes_list)):\n",
        "      if type(train_case[j]) == str:\n",
        "        if test_case[j] != train_case[j]:\n",
        "          dist += 1\n",
        "      else:\n",
        "        dist += (test_case[j] - train_case[j]) ** 2\n",
        "    dists.append((np.sqrt(dist), c_train.iloc[i]))\n",
        "  dists = sorted(dists, key=lambda x:x[0]) # sort least distance to highest\n",
        "  k_neighbors = dists[:k]\n",
        "  k_labels = [n[1] for n in k_neighbors]\n",
        "\n",
        "  label_counts = {}\n",
        "  for l in k_labels:\n",
        "    if l not in label_counts:\n",
        "      label_counts[l] = 0\n",
        "    label_counts[l] += 1\n",
        "  majority = max(label_counts, key=label_counts.get)\n",
        "  predictions.append(majority)\n",
        "\n",
        "accuracy = accuracy_score(c_test, predictions)\n",
        "print(f\"test accuracy: {accuracy:.4%}\")\n"
      ],
      "metadata": {
        "colab": {
          "base_uri": "https://localhost:8080/"
        },
        "id": "qQOSiZwcdb90",
        "outputId": "ee26152a-c41f-47ab-c388-3877ca015ce6"
      },
      "execution_count": null,
      "outputs": [
        {
          "output_type": "stream",
          "name": "stdout",
          "text": [
            "test accuracy: 86.2778%\n"
          ]
        }
      ]
    },
    {
      "cell_type": "code",
      "source": [
        "from sklearn.metrics import confusion_matrix, ConfusionMatrixDisplay\n",
        "import matplotlib.pyplot as plt\n",
        "\n",
        "cm = confusion_matrix(c_test, predictions, labels=df[target].unique())\n",
        "display = ConfusionMatrixDisplay(confusion_matrix=cm, display_labels=df[target].unique())\n",
        "display.plot(cmap=plt.cm.Blues)\n",
        "plt.title(\"KNN Baseline Test Confusion Matrix\")\n",
        "plt.show()"
      ],
      "metadata": {
        "colab": {
          "base_uri": "https://localhost:8080/",
          "height": 472
        },
        "id": "CVVslANJdcPH",
        "outputId": "cfb52208-653c-4c1e-ca62-9ea17b7c765a"
      },
      "execution_count": null,
      "outputs": [
        {
          "output_type": "display_data",
          "data": {
            "text/plain": [
              "<Figure size 640x480 with 2 Axes>"
            ],
            "image/png": "[encoded data removed]"
          },
          "metadata": {}
        }
      ]
    },
    {
      "cell_type": "code",
      "source": [
        "# improved mix type KNN with mahalobis\n",
        "import numpy as np\n",
        "from sklearn.metrics import accuracy_score\n",
        "\n",
        "k = 85 # num of neighbors\n",
        "predictions = []\n",
        "\n",
        "# precompute inverse matrix\n",
        "numeric_f = a_train.select_dtypes(include=['float', 'int']).columns\n",
        "idxs = [a_train.columns.get_loc(col) for col in numeric_f]\n",
        "\n",
        "cov_matrix = np.cov(a_train[numeric_f].to_numpy(), rowvar=False)\n",
        "inv_cov = np.linalg.inv(cov_matrix)\n",
        "\n",
        "# test accuracy\n",
        "for test_case in a_test.to_numpy():\n",
        "  dists = []\n",
        "  for i, train_case in enumerate(a_train.to_numpy()):\n",
        "    dist = 0\n",
        "    diff = test_case[idxs] - train_case[idxs]\n",
        "    mahalanobis_dist = np.dot(np.dot(diff, inv_cov), diff.T)  # Vector operation\n",
        "\n",
        "    dist += mahalanobis_dist\n",
        "\n",
        "    for j in range(len(attributes_list)):\n",
        "      if type(train_case[j]) == str:\n",
        "        if test_case[j] != train_case[j]:\n",
        "          dist += 60\n",
        "\n",
        "    dists.append((np.sqrt(dist), c_train.iloc[i]))\n",
        "  dists = sorted(dists, key=lambda x:x[0]) # sort least distance to highest\n",
        "  k_neighbors = dists[:k]\n",
        "  k_labels = [n[1] for n in k_neighbors]\n",
        "\n",
        "  label_counts = {}\n",
        "  for l in k_labels:\n",
        "    if l not in label_counts:\n",
        "      label_counts[l] = 0\n",
        "    label_counts[l] += 1\n",
        "  majority = max(label_counts, key=label_counts.get)\n",
        "  predictions.append(majority)\n",
        "\n",
        "\n",
        "accuracy = accuracy_score(c_test, predictions)\n",
        "print(f\"test accuracy: {accuracy:.4%}\")\n"
      ],
      "metadata": {
        "colab": {
          "base_uri": "https://localhost:8080/"
        },
        "id": "8lQhXX3kJHJJ",
        "outputId": "1414bc61-1809-4498-a9c5-94a2d5dc66ec"
      },
      "execution_count": null,
      "outputs": [
        {
          "output_type": "stream",
          "name": "stdout",
          "text": [
            "test accuracy: 86.2222%\n"
          ]
        }
      ]
    },
    {
      "cell_type": "code",
      "source": [
        "from sklearn.metrics import confusion_matrix, ConfusionMatrixDisplay\n",
        "import matplotlib.pyplot as plt\n",
        "\n",
        "cm = confusion_matrix(c_test, predictions, labels=df[target].unique())\n",
        "display = ConfusionMatrixDisplay(confusion_matrix=cm, display_labels=df[target].unique())\n",
        "display.plot(cmap=plt.cm.Blues)\n",
        "plt.title(\"KNN Mixed Mahalanobis Test Confusion Matrix\")\n",
        "plt.show()"
      ],
      "metadata": {
        "colab": {
          "base_uri": "https://localhost:8080/",
          "height": 472
        },
        "id": "glpGjq9pRwEY",
        "outputId": "235ce08a-80b0-4488-8b49-d2e05e44d991"
      },
      "execution_count": null,
      "outputs": [
        {
          "output_type": "display_data",
          "data": {
            "text/plain": [
              "<Figure size 640x480 with 2 Axes>"
            ],
            "image/png": "[encoded data removed]"
          },
          "metadata": {}
        }
      ]
    },
    {
      "cell_type": "code",
      "source": [
        "import numpy as np\n",
        "from sklearn.metrics import accuracy_score\n",
        "from collections import Counter\n",
        "\n",
        "c_counts = Counter(c_train)\n",
        "\n",
        "major = max(c_counts, key=c_counts.get)\n",
        "minor = min(c_counts, key=c_counts.get)\n",
        "\n",
        "weights = {}\n",
        "for label, count in c_counts.items():\n",
        "    if label == minor:\n",
        "        weights[label] = 2.0\n",
        "    else:\n",
        "        weights[label] = 1.0\n",
        "\n",
        "print(\"Class Weights:\", weights)"
      ],
      "metadata": {
        "colab": {
          "base_uri": "https://localhost:8080/"
        },
        "id": "I7u3_t9CRwpD",
        "outputId": "da017e2e-8c3d-43d6-d090-7b4bc138e8a1"
      },
      "execution_count": null,
      "outputs": [
        {
          "output_type": "stream",
          "name": "stdout",
          "text": [
            "Class Weights: {0: 1.0, 1: 2.0}\n"
          ]
        }
      ]
    },
    {
      "cell_type": "code",
      "source": [
        "# improved mix type KNN with mahalobis and minority class weighting\n",
        "import numpy as np\n",
        "from sklearn.metrics import accuracy_score\n",
        "\n",
        "k = 96 # larger k works better here\n",
        "predictions = []\n",
        "\n",
        "# precompute inverse matrix\n",
        "numeric_f = a_train.select_dtypes(include=['float', 'int']).columns\n",
        "idxs = [a_train.columns.get_loc(col) for col in numeric_f]\n",
        "\n",
        "cov_matrix = np.cov(a_train[numeric_f].to_numpy(), rowvar=False)\n",
        "inv_cov = np.linalg.inv(cov_matrix)\n",
        "\n",
        "# test accuracy\n",
        "for test_case in a_test.to_numpy():\n",
        "  dists = []\n",
        "  for i, train_case in enumerate(a_train.to_numpy()):\n",
        "    dist = 0\n",
        "    diff = test_case[idxs] - train_case[idxs]\n",
        "    mahalanobis_dist = np.dot(np.dot(diff, inv_cov), diff.T)  # Vector operation\n",
        "\n",
        "    dist += mahalanobis_dist\n",
        "\n",
        "    for j in range(len(attributes_list)):\n",
        "      if type(train_case[j]) == str:\n",
        "        if test_case[j] != train_case[j]:\n",
        "          dist += 60\n",
        "\n",
        "    dists.append((np.sqrt(dist), c_train.iloc[i]))\n",
        "  dists = sorted(dists, key=lambda x:x[0]) # sort least distance to highest\n",
        "  k_neighbors = dists[:k]\n",
        "  k_labels = [n[1] for n in k_neighbors]\n",
        "\n",
        "  label_counts = {}\n",
        "  for neighbor_dist, neighbor_label in k_neighbors:\n",
        "    weight = weights[neighbor_label]\n",
        "    label_counts[neighbor_label] = label_counts.get(neighbor_label, 0) + weight\n",
        "\n",
        "  majority_label = max(label_counts, key=label_counts.get)\n",
        "  predictions.append(majority_label)\n",
        "\n",
        "accuracy = accuracy_score(c_test, predictions)\n",
        "print(f\"test accuracy: {accuracy:.4%}\")"
      ],
      "metadata": {
        "colab": {
          "base_uri": "https://localhost:8080/"
        },
        "id": "ba0mD1B9S5Yg",
        "outputId": "f8ad4450-494e-4f97-aed4-13a911c97eb4"
      },
      "execution_count": null,
      "outputs": [
        {
          "output_type": "stream",
          "name": "stdout",
          "text": [
            "test accuracy: 88.9444%\n"
          ]
        }
      ]
    },
    {
      "cell_type": "code",
      "source": [
        "from sklearn.metrics import confusion_matrix, ConfusionMatrixDisplay\n",
        "import matplotlib.pyplot as plt\n",
        "\n",
        "cm = confusion_matrix(c_test, predictions, labels=df[target].unique())\n",
        "display = ConfusionMatrixDisplay(confusion_matrix=cm, display_labels=df[target].unique())\n",
        "display.plot(cmap=plt.cm.Blues)\n",
        "plt.title(\"KNN Mixed Mahalanobis Weighted Test Confusion Matrix\")\n",
        "plt.show()"
      ],
      "metadata": {
        "colab": {
          "base_uri": "https://localhost:8080/",
          "height": 472
        },
        "id": "tjgCxYBxdpIV",
        "outputId": "44f60733-a67f-44d3-a617-c33882325096"
      },
      "execution_count": null,
      "outputs": [
        {
          "output_type": "display_data",
          "data": {
            "text/plain": [
              "<Figure size 640x480 with 2 Axes>"
            ],
            "image/png": "[encoded data removed]"
          },
          "metadata": {}
        }
      ]
    },
    {
      "cell_type": "code",
      "source": [
        "# minority class weighting for classic euclidean distance\n",
        "import numpy as np\n",
        "from sklearn.metrics import accuracy_score\n",
        "\n",
        "k = 85 # num of neighbors\n",
        "predictions = []\n",
        "\n",
        "# test accuracy\n",
        "for test_case in a_test.to_numpy():\n",
        "  dists = []\n",
        "  for i, train_case in enumerate(a_train.to_numpy()):\n",
        "    dist = 0\n",
        "    for j in range(len(attributes_list)):\n",
        "      if type(train_case[j]) == str:\n",
        "        if test_case[j] != train_case[j]:\n",
        "          dist += 1\n",
        "      else:\n",
        "        dist += (test_case[j] - train_case[j]) ** 2\n",
        "    dists.append((np.sqrt(dist), c_train.iloc[i]))\n",
        "  dists = sorted(dists, key=lambda x:x[0]) # sort least distance to highest\n",
        "  k_neighbors = dists[:k]\n",
        "  k_labels = [n[1] for n in k_neighbors]\n",
        "\n",
        "  label_counts = {}\n",
        "  for neighbor_dist, neighbor_label in k_neighbors:\n",
        "    weight = weights[neighbor_label]\n",
        "    label_counts[neighbor_label] = label_counts.get(neighbor_label, 0) + weight\n",
        "\n",
        "  majority_label = max(label_counts, key=label_counts.get)\n",
        "  predictions.append(majority_label)\n",
        "\n",
        "accuracy = accuracy_score(c_test, predictions)\n",
        "print(f\"test accuracy: {accuracy:.4%}\")"
      ],
      "metadata": {
        "colab": {
          "base_uri": "https://localhost:8080/"
        },
        "id": "ozKxoeDTT6CF",
        "outputId": "0faa4baf-ecd2-49e0-eb56-9028ad067ab3"
      },
      "execution_count": null,
      "outputs": [
        {
          "output_type": "stream",
          "name": "stdout",
          "text": [
            "test accuracy: 82.7222%\n"
          ]
        }
      ]
    },
    {
      "cell_type": "code",
      "source": [
        "from sklearn.metrics import confusion_matrix, ConfusionMatrixDisplay\n",
        "import matplotlib.pyplot as plt\n",
        "\n",
        "cm = confusion_matrix(c_test, predictions, labels=df[target].unique())\n",
        "display = ConfusionMatrixDisplay(confusion_matrix=cm, display_labels=df[target].unique())\n",
        "display.plot(cmap=plt.cm.Blues)\n",
        "plt.title(\"KNN Baseline Weighted Test Confusion Matrix\")\n",
        "plt.show()"
      ],
      "metadata": {
        "colab": {
          "base_uri": "https://localhost:8080/",
          "height": 472
        },
        "id": "dQm64REOkm_Z",
        "outputId": "20ee7151-fe4b-48bf-c03a-95b9eba31018"
      },
      "execution_count": null,
      "outputs": [
        {
          "output_type": "display_data",
          "data": {
            "text/plain": [
              "<Figure size 640x480 with 2 Axes>"
            ],
            "image/png": "[encoded data removed]"
          },
          "metadata": {}
        }
      ]
    }
  ]
}